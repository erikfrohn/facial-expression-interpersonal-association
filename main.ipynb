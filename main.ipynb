{
 "cells": [
  {
   "cell_type": "markdown",
   "metadata": {},
   "source": [
    "# Main working file"
   ]
  },
  {
   "cell_type": "code",
   "execution_count": 10,
   "metadata": {},
   "outputs": [
    {
     "name": "stdout",
     "output_type": "stream",
     "text": [
      "44\n"
     ]
    }
   ],
   "source": [
    "# imports\n",
    "\n",
    "## system\n",
    "import os\n",
    "import numpy as np\n",
    "import pandas as pd\n",
    "\n",
    "import util.feature_selection as fs\n",
    "import util.correlation_measure as cm\n",
    "\n",
    "LOCATION = \"data\"\n",
    "ACTION_UNITS = \"data/au\"\n",
    "FEATURE_FOLDER = \"features\"\n",
    "CORRELATION_FOLDER = 'correlations'\n",
    "PHASES = [f'{name}_{i}' for name, num in  [(\"instructional_video\", 1), (\"discussion_phase\", 2), ('reschu_run',8)] for i in range(num)]#, (\"reschu_run\", 8)] for i in range(num)]\n",
    "SETS = ['corrca', 'factors']\n",
    "FACTORS = ['f1', 'f2', 'f3', 'f4', 'f5', 'f6']\n",
    "COMPONENTS = ['c1', 'c2', 'c3']\n",
    "PAIRS = [f'0{i}_0{i+1}' for i in np.arange(1,9,2)]\n",
    "PAIRS.append(\"09_10\")\n",
    "PAIRS.extend([f'{i}_{i+1}' for i in np.arange(11,104,2)])\n",
    "\n",
    "\n",
    "AVAILABLE_PAIRS = []\n",
    "SKIP_PAIRS = ['53_54', '55_56', \"63_64\", \"89_90\"]\n",
    "for file in os.listdir(ACTION_UNITS):\n",
    "    if \".csv\" in file and 'Data' in file: \n",
    "        filename = os.path.join(ACTION_UNITS, file)\n",
    "        participant, _ = file.split(\"_\",1)\n",
    "        participant = participant[2:]\n",
    "        for p in PAIRS:\n",
    "            p1,p2 = p.split(\"_\")\n",
    "            if participant == p1 or participant == p2:\n",
    "                pair = p\n",
    "                break\n",
    "        if pair in SKIP_PAIRS:\n",
    "            continue\n",
    "        if pair not in AVAILABLE_PAIRS:\n",
    "            AVAILABLE_PAIRS.append(pair)\n",
    "            dir = os.path.join(LOCATION, pair)\n",
    "            os.makedirs(dir, exist_ok=True)\n",
    "            dir = os.path.join(LOCATION, pair, FEATURE_FOLDER)\n",
    "            os.makedirs(dir, exist_ok=True)\n",
    "            dir = os.path.join(LOCATION, pair, CORRELATION_FOLDER)\n",
    "            os.makedirs(dir, exist_ok=True)\n",
    "\n",
    "print(len(AVAILABLE_PAIRS))\n"
   ]
  },
  {
   "cell_type": "markdown",
   "metadata": {},
   "source": [
    "# Feature selection\n"
   ]
  },
  {
   "cell_type": "markdown",
   "metadata": {},
   "source": [
    "## Corrca Weights"
   ]
  },
  {
   "cell_type": "code",
   "execution_count": 2,
   "metadata": {},
   "outputs": [
    {
     "name": "stdout",
     "output_type": "stream",
     "text": [
      "05_06\n",
      "Already computed corrca weights for 05_06, skipping...\n",
      "07_08\n",
      "Already computed corrca weights for 07_08, skipping...\n",
      "09_10\n",
      "Already computed corrca weights for 09_10, skipping...\n",
      "99_100\n",
      "(17, 17)\n",
      "101_102\n",
      "(17, 17)\n",
      "103_104\n",
      "Already computed corrca weights for 103_104, skipping...\n",
      "13_14\n",
      "(17, 17)\n",
      "15_16\n",
      "Pair 15_16 misses either navigator or pilot action unit files, REMOVING FROM AVAILABLE PAIRS...\n",
      "17_18\n",
      "(17, 17)\n",
      "19_20\n",
      "(17, 17)\n",
      "21_22\n",
      "(17, 17)\n",
      "23_24\n",
      "Pair 23_24 misses either navigator or pilot action unit files, REMOVING FROM AVAILABLE PAIRS...\n",
      "25_26\n",
      "(17, 17)\n",
      "27_28\n",
      "Already computed corrca weights for 27_28, skipping...\n",
      "29_30\n",
      "(17, 17)\n",
      "31_32\n",
      "(17, 17)\n",
      "33_34\n",
      "(17, 17)\n",
      "35_36\n",
      "(17, 17)\n",
      "37_38\n",
      "(17, 17)\n",
      "39_40\n",
      "(17, 17)\n",
      "41_42\n",
      "(17, 17)\n",
      "43_44\n",
      "(17, 17)\n",
      "45_46\n",
      "(17, 17)\n",
      "47_48\n",
      "(17, 17)\n",
      "49_50\n",
      "(17, 17)\n",
      "51_52\n",
      "(17, 17)\n",
      "59_60\n",
      "(17, 17)\n",
      "61_62\n",
      "(17, 17)\n",
      "65_66\n",
      "(17, 17)\n",
      "67_68\n",
      "(17, 17)\n",
      "69_70\n",
      "(17, 17)\n",
      "71_72\n",
      "(17, 17)\n",
      "73_74\n",
      "(17, 17)\n",
      "75_76\n",
      "(17, 17)\n",
      "77_78\n",
      "(17, 17)\n",
      "79_80\n",
      "(17, 17)\n",
      "81_82\n",
      "(17, 17)\n",
      "83_84\n",
      "Already computed corrca weights for 83_84, skipping...\n",
      "85_86\n",
      "Already computed corrca weights for 85_86, skipping...\n",
      "87_88\n",
      "Already computed corrca weights for 87_88, skipping...\n",
      "91_92\n",
      "Already computed corrca weights for 91_92, skipping...\n",
      "93_94\n",
      "Already computed corrca weights for 93_94, skipping...\n",
      "95_96\n",
      "Already computed corrca weights for 95_96, skipping...\n",
      "97_98\n",
      "Already computed corrca weights for 97_98, skipping...\n",
      "42\n"
     ]
    }
   ],
   "source": [
    "## CREATING WEIGHTS FOR EACH PAIR SEPARATELY\n",
    "\n",
    "# corrCA takes a df as input. This df should be all files for a pair. \n",
    "for pair in AVAILABLE_PAIRS:\n",
    "    print(pair)\n",
    "    weights_path = os.path.join(LOCATION, pair, f'{pair}_corrca_weights.csv')\n",
    "    if os.path.exists(weights_path):\n",
    "        print(f\"Already computed corrca weights for {pair}, skipping...\")\n",
    "        continue\n",
    "\n",
    "    p1, p2 = pair.split(\"_\")\n",
    "    p1_df = pd.DataFrame()\n",
    "    p2_df = pd.DataFrame()\n",
    "\n",
    "    for file in os.listdir(ACTION_UNITS):\n",
    "        if '.csv' in file and 'Data' in file and p1 in file: \n",
    "            df = pd.read_csv(os.path.join(ACTION_UNITS, file))\n",
    "            p1_df = pd.concat([p1_df, df])\n",
    "        if '.csv' in file and 'Data' in file and p2 in file: \n",
    "            df = pd.read_csv(os.path.join(ACTION_UNITS, file))\n",
    "            p2_df = pd.concat([p2_df, df])\n",
    "    if len(p1_df) < 1 or len(p2_df) < 1:\n",
    "        print(f\"Pair {pair} misses either navigator or pilot action unit files, REMOVING FROM AVAILABLE PAIRS...\")\n",
    "        AVAILABLE_PAIRS = [i for i in AVAILABLE_PAIRS if i!=pair]\n",
    "        continue\n",
    "    p1_df = p1_df.iloc[:len(p2_df)]\n",
    "    p2_df = p2_df.iloc[:len(p1_df)]\n",
    "\n",
    "    mask = (p1_df.isna().any(axis=1).values) | (p2_df.isna().any(axis=1).values)\n",
    "    p1_df = p1_df[~mask].reset_index(drop=True)\n",
    "    p2_df = p2_df[~mask].reset_index(drop=True)\n",
    "    w = fs.corrCA_weights(p1_df, p2_df) #output = pair/pair_corrca_weights.csv\n",
    "    w.to_csv(os.path.join(LOCATION, pair, f\"{pair}_corrca_weights.csv\"), index=False)\n",
    "\n",
    "print(len(AVAILABLE_PAIRS))"
   ]
  },
  {
   "cell_type": "code",
   "execution_count": 5,
   "metadata": {},
   "outputs": [
    {
     "name": "stdout",
     "output_type": "stream",
     "text": [
      "['05_06', '07_08', '09_10', '99_100', '101_102', '103_104', '13_14', '17_18', '19_20', '21_22', '25_26', '27_28', '29_30', '31_32', '33_34', '35_36', '37_38', '39_40', '41_42', '43_44', '45_46', '47_48', '49_50', '51_52', '59_60', '61_62', '65_66', '67_68', '69_70', '71_72', '73_74', '75_76', '77_78', '79_80', '81_82', '83_84', '85_86', '87_88', '91_92', '93_94', '95_96', '97_98']\n"
     ]
    }
   ],
   "source": [
    "print(AVAILABLE_PAIRS)"
   ]
  },
  {
   "cell_type": "markdown",
   "metadata": {},
   "source": [
    "## Feature extraction: Factors and CorrCA"
   ]
  },
  {
   "cell_type": "code",
   "execution_count": 3,
   "metadata": {},
   "outputs": [],
   "source": [
    "## EXTRACTING FACIAL FACTORS AND CORRCA FOR EACH FILE SEPARATELY\n",
    "for pair in AVAILABLE_PAIRS:\n",
    "    # check whether we can perform corrca\n",
    "    if not os.path.exists(os.path.join(LOCATION, pair, f'{pair}_corrca_weights.csv')):\n",
    "        print(f\"Found no corrca weights for {pair}\")    \n",
    "    else:\n",
    "        w = pd.read_csv(os.path.join(LOCATION, pair, f'{pair}_corrca_weights.csv'))\n",
    "\n",
    "    p1, p2 = pair.split(\"_\")\n",
    "    for phase in PHASES: \n",
    "        p1_file = os.path.join(ACTION_UNITS, f\"pp{p1}_navigator_{phase}_AU_withMissingData.csv\")\n",
    "        p2_file = os.path.join(ACTION_UNITS, f\"pp{p2}_pilot_{phase}_AU_withMissingData.csv\")\n",
    "\n",
    "        if os.path.exists(p1_file) and os.path.exists(p2_file):\n",
    "            p1_df = pd.read_csv(p1_file)\n",
    "            p2_df = pd.read_csv(p2_file)\n",
    "\n",
    "            # make equal length\n",
    "            p1_df = p1_df.iloc[:len(p2_df)]\n",
    "            p2_df = p2_df.iloc[:len(p1_df)]\n",
    "\n",
    "            # remove all missing data\n",
    "            mask = (p1_df.isna().any(axis=1).values) | (p2_df.isna().any(axis=1).values)\n",
    "            p1_df = p1_df[~mask].reset_index(drop=True)\n",
    "            p2_df = p2_df[~mask].reset_index(drop=True)\n",
    "\n",
    "            p1_factors = fs.au_to_factors(p1_df)\n",
    "            p1_factors.to_csv(os.path.join(LOCATION, pair, FEATURE_FOLDER, f\"pp{p1}_{phase}_factors.csv\"), index=False)\n",
    "            \n",
    "            p2_factors = fs.au_to_factors(p2_df)\n",
    "            p2_factors.to_csv(os.path.join(LOCATION, pair, FEATURE_FOLDER, f\"pp{p2}_{phase}_factors.csv\"), index=False)\n",
    "\n",
    "            if not os.path.exists(os.path.join(LOCATION, pair, f'{pair}_corrca_weights.csv')):\n",
    "                continue\n",
    "\n",
    "            p1_corrca = fs.apply_corrCA_weights(p1_df, w)\n",
    "            p1_corrca.to_csv(os.path.join(LOCATION, pair, FEATURE_FOLDER, f\"pp{p1}_{phase}_corrca.csv\"), index=False)\n",
    "\n",
    "            p2_corrca = fs.apply_corrCA_weights(p2_df, w)\n",
    "            p2_corrca.to_csv(os.path.join(LOCATION, pair, FEATURE_FOLDER, f\"pp{p2}_{phase}_corrca.csv\"), index=False)\n",
    "            \n",
    "\n"
   ]
  },
  {
   "cell_type": "markdown",
   "metadata": {},
   "source": [
    "# Correlation measure: cRQA"
   ]
  },
  {
   "cell_type": "code",
   "execution_count": 32,
   "metadata": {},
   "outputs": [],
   "source": [
    "import random\n",
    "# TODO: RR overall for TP correlation\n",
    "# TODO: max lag analysis for phase analysis\n",
    "\n",
    "\n",
    "# chosen radii that work to get meaningful results: real pairs are still captured and fake pairs are not\n",
    "RADIUS = {\n",
    "    'f1': 0.1,\n",
    "    'f2': 0.3, # excl?\n",
    "    'f3': 0.15,\n",
    "    'f4': 0.1,\n",
    "    'f5': 0.2,\n",
    "    'f6': 0.15,\n",
    "    'c1': 0.15,\n",
    "    'c2': 0.15,\n",
    "    'c3': 0.20 \n",
    "}\n",
    "\n",
    "REMOVE_NEM = {\n",
    "    'f1': 0,\n",
    "    'f2': 1,\n",
    "    'f3': 1,\n",
    "    'f4': 1,\n",
    "    'f5': 0,\n",
    "    'f6': 1,\n",
    "    'c1': 1,\n",
    "    'c2': 1,\n",
    "    'c3': 1 \n",
    "}\n",
    "\n",
    "RESCHU_DATA = {}\n",
    "for pair in AVAILABLE_PAIRS:\n",
    "    p1, _ = pair.split(\"_\")\n",
    "    RESCHU_DATA[pair] = {\n",
    "        'score' : random.randint(1,25),\n",
    "        'zoom'  : (int(p1)-1)%4 < 2,\n",
    "        'beeps' : [int(p1) % 4 == 1, int(p1) % 4 != 1] * 4\n",
    "    }\n",
    "\n"
   ]
  },
  {
   "cell_type": "code",
   "execution_count": 29,
   "metadata": {},
   "outputs": [
    {
     "data": {
      "image/png": "[encoded data removed]",
      "text/plain": [
       "<Figure size 1000x500 with 1 Axes>"
      ]
     },
     "metadata": {},
     "output_type": "display_data"
    }
   ],
   "source": [
    "import matplotlib.pyplot as plt\n",
    "nav = pd.read_csv('data/05_06/features/pp05_reschu_run_1_factors.csv')\n",
    "pil = pd.read_csv('data/05_06/features/pp06_reschu_run_1_factors.csv')\n",
    "\n",
    "output = cm.crqa_lag_analysis(nav['f1'].values, pil['f1'].values)\n",
    "lags = np.arange(-60,61)\n",
    "rr_profile = output['rr_profile']\n",
    "plt.figure(figsize=(10, 5))\n",
    "plt.plot(lags, rr_profile, 'b-o')\n",
    "plt.axvline(lags[np.argmax(np.array(rr_profile))], color='r', linestyle='--', alpha=0.5)\n",
    "plt.xlabel('Lag (seconds)')\n",
    "plt.ylabel('Recurrence Rate')\n",
    "plt.title(f'Mimicry Lag Profile (Radius =)')\n",
    "plt.grid(True)\n",
    "plt.show()\n"
   ]
  },
  {
   "cell_type": "code",
   "execution_count": null,
   "metadata": {},
   "outputs": [
    {
     "name": "stdout",
     "output_type": "stream",
     "text": [
      "05_06 is being processed\n",
      "07_08 is being processed\n",
      "09_10 is being processed\n"
     ]
    },
    {
     "ename": "KeyboardInterrupt",
     "evalue": "",
     "output_type": "error",
     "traceback": [
      "\u001b[31m---------------------------------------------------------------------------\u001b[39m",
      "\u001b[31mKeyboardInterrupt\u001b[39m                         Traceback (most recent call last)",
      "\u001b[36mCell\u001b[39m\u001b[36m \u001b[39m\u001b[32mIn[46]\u001b[39m\u001b[32m, line 18\u001b[39m\n\u001b[32m     16\u001b[39m     nav = pd.read_csv(nav_file)\n\u001b[32m     17\u001b[39m     pil = pd.read_csv(pil_file)\n\u001b[32m---> \u001b[39m\u001b[32m18\u001b[39m     corr = \u001b[43mcm\u001b[49m\u001b[43m.\u001b[49m\u001b[43mcrqa_lag_analysis\u001b[49m\u001b[43m(\u001b[49m\u001b[43mnav\u001b[49m\u001b[43m[\u001b[49m\u001b[43mc\u001b[49m\u001b[43m]\u001b[49m\u001b[43m.\u001b[49m\u001b[43mvalues\u001b[49m\u001b[43m,\u001b[49m\u001b[43m \u001b[49m\u001b[43mpil\u001b[49m\u001b[43m[\u001b[49m\u001b[43mc\u001b[49m\u001b[43m]\u001b[49m\u001b[43m.\u001b[49m\u001b[43mvalues\u001b[49m\u001b[43m)\u001b[49m\n\u001b[32m     19\u001b[39m     components.append(corr[\u001b[33m'\u001b[39m\u001b[33mRR\u001b[39m\u001b[33m'\u001b[39m])\n\u001b[32m     21\u001b[39m \u001b[38;5;66;03m# We assume that the corrca component features cannot be extracted without the factor features also being extracted. \u001b[39;00m\n",
      "\u001b[36mFile \u001b[39m\u001b[32mc:\\Users\\Erik\\Documents\\facial-expression-synchrony\\util\\correlation_measure.py:59\u001b[39m, in \u001b[36mcrqa_lag_analysis\u001b[39m\u001b[34m(p1, p2, target_rr, sampling_rate, max_lag_seconds, normalize, remove_non_event_matches, downsample, debug, radius)\u001b[39m\n\u001b[32m     51\u001b[39m         \u001b[38;5;28mprint\u001b[39m(\u001b[33mf\u001b[39m\u001b[33m\"\u001b[39m\u001b[33mNormalized ranges - P2: [\u001b[39m\u001b[38;5;132;01m{\u001b[39;00mnp.min(p2)\u001b[38;5;132;01m:\u001b[39;00m\u001b[33m.2f\u001b[39m\u001b[38;5;132;01m}\u001b[39;00m\u001b[33m, \u001b[39m\u001b[38;5;132;01m{\u001b[39;00mnp.max(p2)\u001b[38;5;132;01m:\u001b[39;00m\u001b[33m.2f\u001b[39m\u001b[38;5;132;01m}\u001b[39;00m\u001b[33m]\u001b[39m\u001b[33m\"\u001b[39m)\n\u001b[32m     53\u001b[39m \u001b[38;5;66;03m# Automatic radius determination with safeguards\u001b[39;00m\n\u001b[32m     54\u001b[39m \u001b[38;5;66;03m# initial_radius = 2.0\u001b[39;00m\n\u001b[32m     55\u001b[39m \u001b[38;5;66;03m# min_radius, max_radius = 0.01, 5.0\u001b[39;00m\n\u001b[32m     56\u001b[39m \u001b[38;5;66;03m# radius = initial_radius\u001b[39;00m\n\u001b[32m     57\u001b[39m \n\u001b[32m     58\u001b[39m \u001b[38;5;66;03m# Calculate initial distances\u001b[39;00m\n\u001b[32m---> \u001b[39m\u001b[32m59\u001b[39m distances = \u001b[43mnp\u001b[49m\u001b[43m.\u001b[49m\u001b[43mlinalg\u001b[49m\u001b[43m.\u001b[49m\u001b[43mnorm\u001b[49m\u001b[43m(\u001b[49m\u001b[43mp1\u001b[49m\u001b[43m \u001b[49m\u001b[43m-\u001b[49m\u001b[43m \u001b[49m\u001b[43mp2\u001b[49m\u001b[43m,\u001b[49m\u001b[43m \u001b[49m\u001b[43maxis\u001b[49m\u001b[43m=\u001b[49m\u001b[43m-\u001b[49m\u001b[32;43m1\u001b[39;49m\u001b[43m)\u001b[49m\n\u001b[32m     60\u001b[39m valid_distances = distances[np.isfinite(distances)]\n\u001b[32m     62\u001b[39m \u001b[38;5;28;01mif\u001b[39;00m \u001b[38;5;28mlen\u001b[39m(valid_distances) == \u001b[32m0\u001b[39m:\n",
      "\u001b[36mFile \u001b[39m\u001b[32mc:\\Users\\Erik\\AppData\\Local\\Programs\\Python\\Python312\\Lib\\site-packages\\numpy\\linalg\\linalg.py:2379\u001b[39m, in \u001b[36m_norm_dispatcher\u001b[39m\u001b[34m(x, ord, axis, keepdims)\u001b[39m\n\u001b[32m   2375\u001b[39m     result = op(svd(y, compute_uv=\u001b[38;5;28;01mFalse\u001b[39;00m), axis=-\u001b[32m1\u001b[39m)\n\u001b[32m   2376\u001b[39m     \u001b[38;5;28;01mreturn\u001b[39;00m result\n\u001b[32m-> \u001b[39m\u001b[32m2379\u001b[39m \u001b[38;5;28;01mdef\u001b[39;00m\u001b[38;5;250m \u001b[39m\u001b[34m_norm_dispatcher\u001b[39m(x, \u001b[38;5;28mord\u001b[39m=\u001b[38;5;28;01mNone\u001b[39;00m, axis=\u001b[38;5;28;01mNone\u001b[39;00m, keepdims=\u001b[38;5;28;01mNone\u001b[39;00m):\n\u001b[32m   2380\u001b[39m     \u001b[38;5;28;01mreturn\u001b[39;00m (x,)\n\u001b[32m   2383\u001b[39m \u001b[38;5;129m@array_function_dispatch\u001b[39m(_norm_dispatcher)\n\u001b[32m   2384\u001b[39m \u001b[38;5;28;01mdef\u001b[39;00m\u001b[38;5;250m \u001b[39m\u001b[34mnorm\u001b[39m(x, \u001b[38;5;28mord\u001b[39m=\u001b[38;5;28;01mNone\u001b[39;00m, axis=\u001b[38;5;28;01mNone\u001b[39;00m, keepdims=\u001b[38;5;28;01mFalse\u001b[39;00m):\n",
      "\u001b[31mKeyboardInterrupt\u001b[39m: "
     ]
    }
   ],
   "source": [
    "for pair in AVAILABLE_PAIRS:\n",
    "    print(f'{pair} is being processed')\n",
    "    # if os.path.exists(os.path.join(LOCATION, pair, CORRELATION_FOLDER, f'{pair}_rr_overall.csv')):\n",
    "    #     continue\n",
    "    p1, p2 = pair.split(\"_\")\n",
    "    RR_overall = pd.DataFrame(columns=['phase', *FACTORS, *COMPONENTS])\n",
    "    RR_profile = pd.DataFrame(columns=['phase', 'component' *np.arange(-60,61)])\n",
    "    files = os.path.join(LOCATION, pair, FEATURE_FOLDER)\n",
    "    for phase in PHASES:\n",
    "        nav_file = os.path.join(files,f'pp{p1}_{phase}_corrca.csv')\n",
    "        pil_file = os.path.join(files,f'pp{p2}_{phase}_corrca.csv')\n",
    "\n",
    "\n",
    "        # for RR\n",
    "        components = []\n",
    "        if os.path.exists(nav_file) and os.path.exists(pil_file):\n",
    "            for c in COMPONENTS:\n",
    "                nav = pd.read_csv(nav_file)\n",
    "                pil = pd.read_csv(pil_file)\n",
    "                corr = cm.crqa_lag_analysis(nav[c].values, pil[c].values)\n",
    "                components.append(corr['RR'])\n",
    "                RR_profile.loc[len(RR_profile)] = [phase, c, *corr['rr_profile']]\n",
    "\n",
    "            # We assume that the corrca component features cannot be extracted without the factor features also being extracted. \n",
    "            nav_file = os.path.join(files,f'pp{p1}_{phase}_factors.csv')\n",
    "            pil_file = os.path.join(files,f'pp{p2}_{phase}_factors.csv')\n",
    "\n",
    "        \n",
    "            for f in FACTORS:\n",
    "                nav = pd.read_csv(nav_file)\n",
    "                pil = pd.read_csv(pil_file)\n",
    "                fac = cm.crqa_lag_analysis(nav[f].values, pil[f].values)\n",
    "                components.append(fac['RR'])\n",
    "                RR_profile.loc[len(RR_profile)] = [phase, f, *corr['rr_profile']]\n",
    "\n",
    "            RR_overall.loc[len(RR_overall)] = [phase, *components]\n",
    "    RR_overall.to_csv(os.path.join(LOCATION, pair, CORRELATION_FOLDER, f'{pair}_rr_overall.csv'), index=False)\n",
    "    RR_profile.to_csv(os.path.join(LOCATION, pair, CORRELATION_FOLDER, f'{pair}_rr_profile.csv'), index=False)\n"
   ]
  },
  {
   "cell_type": "markdown",
   "metadata": {},
   "source": [
    "# EXPERIMENT AREA"
   ]
  },
  {
   "cell_type": "code",
   "execution_count": null,
   "metadata": {},
   "outputs": [],
   "source": [
    "df = pd.DataFrame(columns = ['1', '2','3', '4'])\n",
    "\n"
   ]
  },
  {
   "cell_type": "code",
   "execution_count": 42,
   "metadata": {},
   "outputs": [
    {
     "data": {
      "text/html": [
       "<div>\n",
       "<style scoped>\n",
       "    .dataframe tbody tr th:only-of-type {\n",
       "        vertical-align: middle;\n",
       "    }\n",
       "\n",
       "    .dataframe tbody tr th {\n",
       "        vertical-align: top;\n",
       "    }\n",
       "\n",
       "    .dataframe thead th {\n",
       "        text-align: right;\n",
       "    }\n",
       "</style>\n",
       "<table border=\"1\" class=\"dataframe\">\n",
       "  <thead>\n",
       "    <tr style=\"text-align: right;\">\n",
       "      <th></th>\n",
       "      <th>1</th>\n",
       "      <th>2</th>\n",
       "      <th>3</th>\n",
       "      <th>4</th>\n",
       "    </tr>\n",
       "  </thead>\n",
       "  <tbody>\n",
       "    <tr>\n",
       "      <th>0</th>\n",
       "      <td>1</td>\n",
       "      <td>2</td>\n",
       "      <td>3</td>\n",
       "      <td>5</td>\n",
       "    </tr>\n",
       "    <tr>\n",
       "      <th>1</th>\n",
       "      <td>1</td>\n",
       "      <td>2</td>\n",
       "      <td>3</td>\n",
       "      <td>5</td>\n",
       "    </tr>\n",
       "    <tr>\n",
       "      <th>2</th>\n",
       "      <td>1</td>\n",
       "      <td>2</td>\n",
       "      <td>3</td>\n",
       "      <td>5</td>\n",
       "    </tr>\n",
       "    <tr>\n",
       "      <th>3</th>\n",
       "      <td>1</td>\n",
       "      <td>2</td>\n",
       "      <td>3</td>\n",
       "      <td>5</td>\n",
       "    </tr>\n",
       "    <tr>\n",
       "      <th>4</th>\n",
       "      <td>1</td>\n",
       "      <td>2</td>\n",
       "      <td>3</td>\n",
       "      <td>5</td>\n",
       "    </tr>\n",
       "    <tr>\n",
       "      <th>5</th>\n",
       "      <td>1</td>\n",
       "      <td>1</td>\n",
       "      <td>2</td>\n",
       "      <td>3</td>\n",
       "    </tr>\n",
       "  </tbody>\n",
       "</table>\n",
       "</div>"
      ],
      "text/plain": [
       "   1  2  3  4\n",
       "0  1  2  3  5\n",
       "1  1  2  3  5\n",
       "2  1  2  3  5\n",
       "3  1  2  3  5\n",
       "4  1  2  3  5\n",
       "5  1  1  2  3"
      ]
     },
     "execution_count": 42,
     "metadata": {},
     "output_type": "execute_result"
    }
   ],
   "source": [
    "row = [1,2,3]\n",
    "df.loc[len(df)] = [1, *row]\n",
    "df"
   ]
  },
  {
   "cell_type": "code",
   "execution_count": null,
   "metadata": {},
   "outputs": [],
   "source": []
  },
  {
   "cell_type": "code",
   "execution_count": null,
   "metadata": {},
   "outputs": [],
   "source": []
  }
 ],
 "metadata": {
  "kernelspec": {
   "display_name": "Python 3",
   "language": "python",
   "name": "python3"
  },
  "language_info": {
   "codemirror_mode": {
    "name": "ipython",
    "version": 3
   },
   "file_extension": ".py",
   "mimetype": "text/x-python",
   "name": "python",
   "nbconvert_exporter": "python",
   "pygments_lexer": "ipython3",
   "version": "3.12.9"
  }
 },
 "nbformat": 4,
 "nbformat_minor": 2
}
